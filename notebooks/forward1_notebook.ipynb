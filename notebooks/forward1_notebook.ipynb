{
 "cells": [
  {
   "cell_type": "code",
   "execution_count": 1,
   "metadata": {},
   "outputs": [],
   "source": [
    "import sys\n",
    "sys.path.insert(0,'../models/')"
   ]
  },
  {
   "cell_type": "code",
   "execution_count": 2,
   "metadata": {},
   "outputs": [],
   "source": [
    "import pickle, pystan, ssl, sys, copy\n",
    "ssl._create_default_https_context = ssl._create_unverified_context\n",
    "import pandas as pd\n",
    "import numpy as np\n",
    "from matplotlib.pyplot import *\n",
    "import wilson as w\n",
    "import circuitnumeric as cc"
   ]
  },
  {
   "cell_type": "code",
   "execution_count": 3,
   "metadata": {},
   "outputs": [],
   "source": [
    "%matplotlib inline"
   ]
  },
  {
   "cell_type": "markdown",
   "metadata": {},
   "source": [
    "### Compile or load Stan model"
   ]
  },
  {
   "cell_type": "code",
   "execution_count": 4,
   "metadata": {},
   "outputs": [
    {
     "name": "stderr",
     "output_type": "stream",
     "text": [
      "INFO:pystan:COMPILING THE C++ CODE FOR MODEL anon_model_9bf72804f738f2ca409e4b86f6447e2b NOW.\n"
     ]
    }
   ],
   "source": [
    "model_path = \"../models/\"\n",
    "model_name = \"casel_forward\"\n",
    "compile_path = \"../models/compiled/\"\n",
    "\n",
    "## model = pystan.StanModel(file = (model_path + model_name + \".stan\"))\n",
    "model = pystan.StanModel(file=\"../models/case1_forward.stan\")\n",
    "with open(compile_path + model_name + '.pkl', 'wb') as f:\n",
    "   pickle.dump(model, f)\n",
    "\n",
    "# model = pickle.load(open(compile_path + model_name + '.pkl', 'rb'))"
   ]
  },
  {
   "cell_type": "markdown",
   "metadata": {},
   "source": [
    "## Build Stan dictionary"
   ]
  },
  {
   "cell_type": "markdown",
   "metadata": {},
   "source": [
    "### some attributes"
   ]
  },
  {
   "cell_type": "code",
   "execution_count": 5,
   "metadata": {},
   "outputs": [],
   "source": [
    "#setup data dictionary for Stan\n",
    "dat = {}\n",
    "J = 1\n",
    "beta = 1.5\n",
    "dat['J'] = J\n",
    "dat['beta'] = beta\n",
    "\n",
    "c_ = [0.5]#np.linspace(0.1,1,10)\n",
    "\n",
    "n = 1000 #n per c-pair\n",
    "cc_ = np.zeros((n*len(c_),2))\n",
    "\n",
    "k = -1 \n",
    "for c in c_:\n",
    "    for i in range(n):\n",
    "        k += 1\n",
    "        cc_[k,:] = [1,c]\n",
    "        \n",
    "\n",
    "dat['Ns'] = n*len(c_)\n",
    "dat['c'] = cc_\n",
    "dat['Nd'] = 100\n",
    "dat['x_r'] = [0.0]\n",
    "dat['x_i'] = [0]\n",
    "dat['rel_tol'] = 1e-3\n",
    "dat['function_tol'] = 1e-1\n",
    "dat['max_steps'] = 1000\n"
   ]
  },
  {
   "cell_type": "code",
   "execution_count": 6,
   "metadata": {},
   "outputs": [],
   "source": [
    "fit = model.sampling(data = dat, chains = 1, iter=1, algorithm = \"Fixed_param\")"
   ]
  },
  {
   "cell_type": "code",
   "execution_count": 7,
   "metadata": {},
   "outputs": [
    {
     "name": "stdout",
     "output_type": "stream",
     "text": [
      "odict_keys(['Ts_obs', 'uinf', 't12', 'lambda', 'Tdyn_obs', 'lp__'])\n"
     ]
    }
   ],
   "source": [
    "print(fit.extract().keys())"
   ]
  },
  {
   "cell_type": "code",
   "execution_count": 8,
   "metadata": {},
   "outputs": [],
   "source": [
    "# print(fit)"
   ]
  },
  {
   "cell_type": "code",
   "execution_count": 9,
   "metadata": {},
   "outputs": [
    {
     "name": "stdout",
     "output_type": "stream",
     "text": [
      "[0.4145672  0.39069463]\n"
     ]
    }
   ],
   "source": [
    "print(fit.extract()['uinf'][0][0,:])"
   ]
  },
  {
   "cell_type": "code",
   "execution_count": 10,
   "metadata": {},
   "outputs": [
    {
     "name": "stdout",
     "output_type": "stream",
     "text": [
      "999\n",
      "0.896897694982343\n",
      "0.6811533470148209\n",
      "0.7124063271656862\n",
      "0.5359300541648778\n",
      "0.7943005441436787\n",
      "0.786797945739547\n"
     ]
    }
   ],
   "source": [
    "T1 = []\n",
    "T2 = []\n",
    "k = -1\n",
    "# for i in range(1,10):\n",
    "print(i)\n",
    "t1 = []\n",
    "t2 = []\n",
    "for j in range(n):\n",
    "    k += 1\n",
    "    t1.append(fit.extract()['Ts_obs'][0][k,0])\n",
    "    t2.append(fit.extract()['Ts_obs'][0][k,1])\n",
    "T1.append(np.mean(t1))\n",
    "T2.append(np.mean(t2))\n",
    "\n",
    "print(np.mean(t1))\n",
    "print(np.mean(t2))\n",
    "print(np.std(t1))\n",
    "print(np.std(t2))\n",
    "\n",
    "print(np.std(t1)/np.mean(t1))\n",
    "print(np.std(t2)/np.mean(t2))\n"
   ]
  },
  {
   "cell_type": "code",
   "execution_count": 11,
   "metadata": {},
   "outputs": [
    {
     "name": "stdout",
     "output_type": "stream",
     "text": [
      "[0.5]\n",
      "0.4142060089717761\n",
      "0.39032858396832304\n",
      "0.9180179773556582\n",
      "0.6924204753178218\n"
     ]
    }
   ],
   "source": [
    "DF={} #dataframe that is operated on\n",
    "w.DF=DF\n",
    "\n",
    "\n",
    "DF['alpha1']=0.\n",
    "DF['alpha2']=0.\n",
    "DF['beta1']=beta\n",
    "DF['beta2']=beta\n",
    "DF['gamma1']=2.0\n",
    "DF['gamma2']=2.0\n",
    "DF['etaS1']=0.1\n",
    "DF['etaS2']=0.1\n",
    "\n",
    "DF['J1']=J\n",
    "DF['J2']=J\n",
    "DF['S01']=0.0\n",
    "DF['S02']=0.0\n",
    "DF['taua1']=1\n",
    "DF['taua2']=1\n",
    "\n",
    "DF['etag1']=0.5\n",
    "DF['etag2']=0.5\n",
    "\n",
    "ci = 0\n",
    "DF[ci]={}\n",
    "DF[ci]['c1']=1.0\n",
    "print(c_)\n",
    "DF[ci]['c2']=c_[-1]\n",
    "w.calcuinf_newton(ci)\n",
    "print(DF[ci]['uinf1'])\n",
    "print(DF[ci]['uinf2'])\n",
    "\n",
    "w.calcdudtheta(ci)\n",
    "w.calcT(ci)\n",
    "print(DF[ci]['T1hat'])\n",
    "print(DF[ci]['T2hat'])"
   ]
  },
  {
   "cell_type": "code",
   "execution_count": 12,
   "metadata": {},
   "outputs": [
    {
     "data": {
      "text/plain": [
       "[<matplotlib.lines.Line2D at 0x13cf67210>,\n",
       " <matplotlib.lines.Line2D at 0x13cf787d0>]"
      ]
     },
     "execution_count": 12,
     "metadata": {},
     "output_type": "execute_result"
    },
    {
     "data": {
      "image/png": "[encoded data removed]",
      "text/plain": [
       "<Figure size 432x288 with 1 Axes>"
      ]
     },
     "metadata": {},
     "output_type": "display_data"
    }
   ],
   "source": [
    "cc.P = w.DF.copy()\n",
    "u,a = cc.ccc(ci)\n",
    "plot(u.T)"
   ]
  },
  {
   "cell_type": "code",
   "execution_count": 13,
   "metadata": {},
   "outputs": [
    {
     "data": {
      "text/plain": [
       "(1.0052838709677419, 0.8457966666666665)"
      ]
     },
     "execution_count": 13,
     "metadata": {},
     "output_type": "execute_result"
    }
   ],
   "source": [
    "cc.calcTNpool(u)"
   ]
  },
  {
   "cell_type": "code",
   "execution_count": 14,
   "metadata": {},
   "outputs": [],
   "source": [
    "# fit.extract()['Ts_obs'][0][0,1]"
   ]
  },
  {
   "cell_type": "code",
   "execution_count": 15,
   "metadata": {},
   "outputs": [],
   "source": [
    "# print(T1)\n",
    "# print(T2)"
   ]
  }
 ],
 "metadata": {
  "kernelspec": {
   "display_name": "Python 3.7.4 64-bit",
   "language": "python",
   "name": "python37464bit88472551656c4de0b45b4bb9cfa50a19"
  },
  "language_info": {
   "codemirror_mode": {
    "name": "ipython",
    "version": 3
   },
   "file_extension": ".py",
   "mimetype": "text/x-python",
   "name": "python",
   "nbconvert_exporter": "python",
   "pygments_lexer": "ipython3",
   "version": "3.7.4"
  }
 },
 "nbformat": 4,
 "nbformat_minor": 2
}
