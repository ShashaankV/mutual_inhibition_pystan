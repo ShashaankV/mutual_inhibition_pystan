{
 "cells": [
  {
   "cell_type": "code",
   "execution_count": null,
   "metadata": {},
   "outputs": [],
   "source": [
    "import sys\n",
    "sys.path.insert(0,'../models/')"
   ]
  },
  {
   "cell_type": "code",
   "execution_count": null,
   "metadata": {},
   "outputs": [],
   "source": [
    "import pickle, pystan, ssl, sys, copy\n",
    "ssl._create_default_https_context = ssl._create_unverified_context\n",
    "import pandas as pd\n",
    "import numpy as np\n",
    "from matplotlib.pyplot import *\n",
    "import wilson as w\n",
    "import circuitnumeric as cc"
   ]
  },
  {
   "cell_type": "code",
   "execution_count": null,
   "metadata": {},
   "outputs": [],
   "source": [
    "%matplotlib inline"
   ]
  },
  {
   "cell_type": "markdown",
   "metadata": {},
   "source": [
    "# Forward model (data synthesis)"
   ]
  },
  {
   "cell_type": "markdown",
   "metadata": {},
   "source": [
    "## Compile or load Stan model"
   ]
  },
  {
   "cell_type": "code",
   "execution_count": null,
   "metadata": {},
   "outputs": [],
   "source": [
    "model_path = \"../models/\"\n",
    "model_name = \"staticR_wilson_forward.stan\"\n",
    "compile_path = \"../models/compiled/\"\n",
    "\n",
    "### model = pystan.StanModel(file = (model_path + model_name + \".stan\"))\n",
    "# model = pystan.StanModel(file=\"../models/staticR_wilson_forward.stan\")\n",
    "# with open(compile_path + model_name + '.pkl', 'wb') as f:\n",
    "#    pickle.dump(model, f)\n",
    "\n",
    "model = pickle.load(open(compile_path + model_name + '.pkl', 'rb'))"
   ]
  },
  {
   "cell_type": "markdown",
   "metadata": {},
   "source": [
    "## Build Stan dictionary"
   ]
  },
  {
   "cell_type": "markdown",
   "metadata": {},
   "source": [
    "### some attributes"
   ]
  },
  {
   "cell_type": "code",
   "execution_count": null,
   "metadata": {},
   "outputs": [],
   "source": [
    "#setup data dictionary for Stan\n",
    "dat = {}\n",
    "J = 1\n",
    "beta = 1.5\n",
    "\n",
    "dat['J'] = J\n",
    "dat['beta'] = beta\n",
    "\n",
    "c_ = np.linspace(0.1,1,10)\n",
    "\n",
    "n = 10 #n per c-pair\n",
    "cc_ = np.zeros((2*n*len(c_),2))\n",
    "\n",
    "k = -1 \n",
    "for c in c_:\n",
    "    for i in range(n):\n",
    "        k += 1\n",
    "        cc_[k,:] = [1,c]\n",
    "        \n",
    "for c in c_[:-1]:\n",
    "    for i in range(n):\n",
    "        k += 1\n",
    "        cc_[k,:] = [c,1]\n",
    "        \n",
    "\n",
    "dat['Ns'] = len(cc_)\n",
    "dat['c'] = cc_\n",
    "dat['Nd'] = 100\n",
    "dat['x_r'] = [0.0]\n",
    "dat['x_i'] = [0]\n",
    "dat['rel_tol'] = 1e-3\n",
    "dat['function_tol'] = 1e-1\n",
    "dat['max_steps'] = 1000\n"
   ]
  },
  {
   "cell_type": "code",
   "execution_count": null,
   "metadata": {},
   "outputs": [],
   "source": [
    "syn = model.sampling(data = dat, chains = 1, iter=1, algorithm = \"Fixed_param\")"
   ]
  },
  {
   "cell_type": "markdown",
   "metadata": {},
   "source": [
    "### unpack Ts"
   ]
  },
  {
   "cell_type": "code",
   "execution_count": null,
   "metadata": {},
   "outputs": [],
   "source": [
    "T = np.zeros((len(cc_),2))\n",
    "k = -1\n",
    "t1 = []\n",
    "t2 = []\n",
    "for j in range(n):\n",
    "    k += 1\n",
    "    T[k,0] = syn.extract()['Ts_obs'][0][k,0]\n",
    "    T[k,1] = syn.extract()['Ts_obs'][0][k,1]\n",
    "\n",
    "dat['Ts_obs'] = T"
   ]
  },
  {
   "cell_type": "markdown",
   "metadata": {},
   "source": [
    "# Backward reasoning (inference)"
   ]
  },
  {
   "cell_type": "markdown",
   "metadata": {},
   "source": [
    "## Compile (load) model"
   ]
  },
  {
   "cell_type": "code",
   "execution_count": null,
   "metadata": {},
   "outputs": [],
   "source": [
    "model_name = \"staticR_wilson_backward.stan\"\n",
    "\n",
    "# ## model = pystan.StanModel(file = (model_path + model_name + \".stan\"))\n",
    "# model = pystan.StanModel(file=\"../models/staticR_wilson_backward.stan\")\n",
    "# with open(compile_path + model_name + '.pkl', 'wb') as f:\n",
    "#    pickle.dump(model, f)\n",
    "\n",
    "model = pickle.load(open(compile_path + model_name + '.pkl', 'rb'))"
   ]
  },
  {
   "cell_type": "markdown",
   "metadata": {},
   "source": [
    "## Initial parameters and fit conditions"
   ]
  },
  {
   "cell_type": "code",
   "execution_count": null,
   "metadata": {},
   "outputs": [],
   "source": [
    "def initfun():\n",
    "    init = {}\n",
    "    beta = np.random.normal(1,.01)\n",
    "    while beta<=0:\n",
    "        beta = np.random.normal(1,.01)\n",
    "    init['beta'] = beta\n",
    "    J = np.random.normal(1,.01)\n",
    "    while J<=0:\n",
    "        J = np.random.normal(1,.01)\n",
    "    init['J'] = J\n",
    "    return init\n",
    "\n",
    "warmup = 500\n",
    "iterations = 2000\n",
    "chains = 1\n",
    "control = {'adapt_delta':0.99}"
   ]
  },
  {
   "cell_type": "markdown",
   "metadata": {},
   "source": [
    "## Run fit (sampler)"
   ]
  },
  {
   "cell_type": "code",
   "execution_count": null,
   "metadata": {},
   "outputs": [],
   "source": [
    "fit = model.sampling(data = dat, chains = chains, iter=iterations, warmup=warmup, \n",
    "                     init = initfun,control=control)\n",
    "#                      pars = ['J','beta'],#algorithm = \"Fixed_param\")"
   ]
  },
  {
   "cell_type": "code",
   "execution_count": null,
   "metadata": {},
   "outputs": [],
   "source": [
    "print(fit)"
   ]
  },
  {
   "cell_type": "code",
   "execution_count": null,
   "metadata": {},
   "outputs": [],
   "source": [
    "import arviz as az\n",
    "az.plot_pair(fit,group='posterior',var_names=[\"beta\",\"J\"])"
   ]
  },
  {
   "cell_type": "code",
   "execution_count": null,
   "metadata": {},
   "outputs": [],
   "source": []
  }
 ],
 "metadata": {
  "kernelspec": {
   "display_name": "Python 3.7.4 64-bit",
   "language": "python",
   "name": "python37464bit88472551656c4de0b45b4bb9cfa50a19"
  },
  "language_info": {
   "codemirror_mode": {
    "name": "ipython",
    "version": 3
   },
   "file_extension": ".py",
   "mimetype": "text/x-python",
   "name": "python",
   "nbconvert_exporter": "python",
   "pygments_lexer": "ipython3",
   "version": "3.7.4"
  }
 },
 "nbformat": 4,
 "nbformat_minor": 2
}
