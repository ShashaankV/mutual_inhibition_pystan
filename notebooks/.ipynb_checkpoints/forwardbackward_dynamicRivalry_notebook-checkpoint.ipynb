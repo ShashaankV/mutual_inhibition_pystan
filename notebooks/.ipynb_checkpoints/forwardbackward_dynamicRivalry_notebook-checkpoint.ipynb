{
 "cells": [
  {
   "cell_type": "code",
   "execution_count": 1,
   "metadata": {},
   "outputs": [],
   "source": [
    "import sys\n",
    "sys.path.insert(0,'../models/')"
   ]
  },
  {
   "cell_type": "code",
   "execution_count": 2,
   "metadata": {},
   "outputs": [],
   "source": [
    "import pickle, pystan, ssl, sys, copy\n",
    "ssl._create_default_https_context = ssl._create_unverified_context\n",
    "import pandas as pd\n",
    "import numpy as np\n",
    "from matplotlib.pyplot import *\n",
    "import wilson as w\n",
    "import circuitnumeric as cc"
   ]
  },
  {
   "cell_type": "code",
   "execution_count": 3,
   "metadata": {},
   "outputs": [],
   "source": [
    "%matplotlib inline"
   ]
  },
  {
   "cell_type": "markdown",
   "metadata": {},
   "source": [
    "# Forward model (data synthesis)"
   ]
  },
  {
   "cell_type": "markdown",
   "metadata": {},
   "source": [
    "## Compile or load Stan model"
   ]
  },
  {
   "cell_type": "code",
   "execution_count": 90,
   "metadata": {},
   "outputs": [
    {
     "name": "stderr",
     "output_type": "stream",
     "text": [
      "INFO:pystan:COMPILING THE C++ CODE FOR MODEL anon_model_e4d2438e48f5d36a9804eb680da56a6e NOW.\n"
     ]
    }
   ],
   "source": [
    "model_path = \"../models/\"\n",
    "model_name = \"dynR_forward_Stansolver.stan\"\n",
    "compile_path = \"../models/compiled/\"\n",
    "\n",
    "## model = pystan.StanModel(file = (model_path + model_name + \".stan\"))\n",
    "model = pystan.StanModel(file=\"../models/dynR_forward_Stansolver.stan\")\n",
    "with open(compile_path + model_name + '.pkl', 'wb') as f:\n",
    "   pickle.dump(model, f)\n",
    "\n",
    "# model = pickle.load(open(compile_path + model_name + '.pkl', 'rb'))"
   ]
  },
  {
   "cell_type": "markdown",
   "metadata": {},
   "source": [
    "## Build Stan dictionary"
   ]
  },
  {
   "cell_type": "markdown",
   "metadata": {},
   "source": [
    "### some attributes"
   ]
  },
  {
   "cell_type": "code",
   "execution_count": 91,
   "metadata": {},
   "outputs": [
    {
     "name": "stdout",
     "output_type": "stream",
     "text": [
      "[2017.5862069]\n"
     ]
    }
   ],
   "source": [
    "#setup data dictionary for Stan\n",
    "dat = {}\n",
    "J = 1\n",
    "beta = 1.5\n",
    "\n",
    "# int<lower = 0> Nd; // number of milliseconds\n",
    "# real t[Nd]; //\n",
    "# real J;\n",
    "# real beta;\n",
    "# real x_r[1];\n",
    "# int x_i[1];\n",
    "ttot = 60*1000\n",
    "dat['J'] = J\n",
    "dat['beta'] = beta\n",
    "dat['Nts'] = ttot-1\n",
    "dat['t'] = np.arange(1,ttot)\n",
    "dat['t0'] = 0\n",
    "dat['x_r'] = [0]\n",
    "dat['x_i'] = [0]\n",
    "dat['Nd'] = 100\n",
    "\n",
    "\n",
    "syn = model.sampling(data = dat, chains = 1, iter=1, algorithm = \"Fixed_param\")\n",
    "print(syn.extract()['T'])"
   ]
  },
  {
   "cell_type": "markdown",
   "metadata": {},
   "source": [
    "### unpack Ts"
   ]
  },
  {
   "cell_type": "code",
   "execution_count": 92,
   "metadata": {},
   "outputs": [],
   "source": [
    "T = np.zeros((dat['Nd'],1))\n",
    "dat['Tdyn_obs'] = syn.extract()['Tdyn_obs'][0][:]#.astype(int)\n",
    "\n",
    "# print(dat['Tdyn_obs'])"
   ]
  },
  {
   "cell_type": "markdown",
   "metadata": {},
   "source": [
    "# Backward reasoning (inference)"
   ]
  },
  {
   "cell_type": "markdown",
   "metadata": {},
   "source": [
    "## Compile (load) model"
   ]
  },
  {
   "cell_type": "code",
   "execution_count": 101,
   "metadata": {},
   "outputs": [
    {
     "name": "stderr",
     "output_type": "stream",
     "text": [
      "INFO:pystan:COMPILING THE C++ CODE FOR MODEL anon_model_2aa6b2a50b3f8803f36466b0b562212e NOW.\n"
     ]
    }
   ],
   "source": [
    "model_name = \"dynR_backward_Stansolver.stan\"\n",
    "\n",
    "## model = pystan.StanModel(file = (model_path + model_name + \".stan\"))\n",
    "model = pystan.StanModel(file=\"../models/dynR_backward_Stansolver.stan\")\n",
    "with open(compile_path + model_name + '.pkl', 'wb') as f:\n",
    "   pickle.dump(model, f)\n",
    "\n",
    "# model = pickle.load(open(compile_path + model_name + '.pkl', 'rb'))"
   ]
  },
  {
   "cell_type": "markdown",
   "metadata": {},
   "source": [
    "## Initial parameters and fit conditions"
   ]
  },
  {
   "cell_type": "code",
   "execution_count": 97,
   "metadata": {},
   "outputs": [],
   "source": [
    "# def initfun():\n",
    "#     init = {}\n",
    "#     beta = np.random.normal(10,.01)\n",
    "#     while beta<=0:\n",
    "#         beta = np.random.normal(10,.01)\n",
    "#     init['beta'] = beta\n",
    "#     J = np.random.normal(10,.01)\n",
    "#     while J<=0:\n",
    "#         J = np.random.normal(10,.01)\n",
    "#     init['J'] = J\n",
    "#     return init\n",
    "\n",
    "warmup = 0\n",
    "iterations = 1\n",
    "chains = 1\n",
    "control = {'adapt_delta':0.99}"
   ]
  },
  {
   "cell_type": "markdown",
   "metadata": {},
   "source": [
    "## Run fit (sampler)"
   ]
  },
  {
   "cell_type": "code",
   "execution_count": 102,
   "metadata": {},
   "outputs": [
    {
     "ename": "RuntimeError",
     "evalue": "Initialization failed.",
     "output_type": "error",
     "traceback": [
      "\u001b[0;31m-----------------------------------------------------\u001b[0m",
      "\u001b[0;31mRuntimeError\u001b[0m        Traceback (most recent call last)",
      "\u001b[0;32m<ipython-input-102-aef0bcc67b07>\u001b[0m in \u001b[0;36m<module>\u001b[0;34m()\u001b[0m\n\u001b[1;32m      1\u001b[0m fit = model.sampling(test_grad=True,data = dat, chains = chains, iter=iterations, warmup=warmup, \n\u001b[0;32m----> 2\u001b[0;31m                      init = [{'beta':4}],control=control,algorithm = \"Fixed_param\")\n\u001b[0m",
      "\u001b[0;32m/usr/local/lib/python3.7/site-packages/pystan/model.py\u001b[0m in \u001b[0;36msampling\u001b[0;34m(self, data, pars, chains, iter, warmup, thin, seed, init, sample_file, diagnostic_file, verbose, algorithm, control, n_jobs, **kwargs)\u001b[0m\n\u001b[1;32m    776\u001b[0m         \u001b[0mcall_sampler_args\u001b[0m \u001b[0;34m=\u001b[0m \u001b[0mizip\u001b[0m\u001b[0;34m(\u001b[0m\u001b[0mitertools\u001b[0m\u001b[0;34m.\u001b[0m\u001b[0mrepeat\u001b[0m\u001b[0;34m(\u001b[0m\u001b[0mdata\u001b[0m\u001b[0;34m)\u001b[0m\u001b[0;34m,\u001b[0m \u001b[0margs_list\u001b[0m\u001b[0;34m,\u001b[0m \u001b[0mitertools\u001b[0m\u001b[0;34m.\u001b[0m\u001b[0mrepeat\u001b[0m\u001b[0;34m(\u001b[0m\u001b[0mpars\u001b[0m\u001b[0;34m)\u001b[0m\u001b[0;34m)\u001b[0m\u001b[0;34m\u001b[0m\u001b[0;34m\u001b[0m\u001b[0m\n\u001b[1;32m    777\u001b[0m         \u001b[0mcall_sampler_star\u001b[0m \u001b[0;34m=\u001b[0m \u001b[0mself\u001b[0m\u001b[0;34m.\u001b[0m\u001b[0mmodule\u001b[0m\u001b[0;34m.\u001b[0m\u001b[0m_call_sampler_star\u001b[0m\u001b[0;34m\u001b[0m\u001b[0;34m\u001b[0m\u001b[0m\n\u001b[0;32m--> 778\u001b[0;31m         \u001b[0mret_and_samples\u001b[0m \u001b[0;34m=\u001b[0m \u001b[0m_map_parallel\u001b[0m\u001b[0;34m(\u001b[0m\u001b[0mcall_sampler_star\u001b[0m\u001b[0;34m,\u001b[0m \u001b[0mcall_sampler_args\u001b[0m\u001b[0;34m,\u001b[0m \u001b[0mn_jobs\u001b[0m\u001b[0;34m)\u001b[0m\u001b[0;34m\u001b[0m\u001b[0;34m\u001b[0m\u001b[0m\n\u001b[0m\u001b[1;32m    779\u001b[0m         \u001b[0msamples\u001b[0m \u001b[0;34m=\u001b[0m \u001b[0;34m[\u001b[0m\u001b[0msmpl\u001b[0m \u001b[0;32mfor\u001b[0m \u001b[0m_\u001b[0m\u001b[0;34m,\u001b[0m \u001b[0msmpl\u001b[0m \u001b[0;32min\u001b[0m \u001b[0mret_and_samples\u001b[0m\u001b[0;34m]\u001b[0m\u001b[0;34m\u001b[0m\u001b[0;34m\u001b[0m\u001b[0m\n\u001b[1;32m    780\u001b[0m \u001b[0;34m\u001b[0m\u001b[0m\n",
      "\u001b[0;32m/usr/local/lib/python3.7/site-packages/pystan/model.py\u001b[0m in \u001b[0;36m_map_parallel\u001b[0;34m(function, args, n_jobs)\u001b[0m\n\u001b[1;32m     88\u001b[0m             \u001b[0mpool\u001b[0m\u001b[0;34m.\u001b[0m\u001b[0mjoin\u001b[0m\u001b[0;34m(\u001b[0m\u001b[0;34m)\u001b[0m\u001b[0;34m\u001b[0m\u001b[0;34m\u001b[0m\u001b[0m\n\u001b[1;32m     89\u001b[0m     \u001b[0;32melse\u001b[0m\u001b[0;34m:\u001b[0m\u001b[0;34m\u001b[0m\u001b[0;34m\u001b[0m\u001b[0m\n\u001b[0;32m---> 90\u001b[0;31m         \u001b[0mmap_result\u001b[0m \u001b[0;34m=\u001b[0m \u001b[0mlist\u001b[0m\u001b[0;34m(\u001b[0m\u001b[0mmap\u001b[0m\u001b[0;34m(\u001b[0m\u001b[0mfunction\u001b[0m\u001b[0;34m,\u001b[0m \u001b[0margs\u001b[0m\u001b[0;34m)\u001b[0m\u001b[0;34m)\u001b[0m\u001b[0;34m\u001b[0m\u001b[0;34m\u001b[0m\u001b[0m\n\u001b[0m\u001b[1;32m     91\u001b[0m     \u001b[0;32mreturn\u001b[0m \u001b[0mmap_result\u001b[0m\u001b[0;34m\u001b[0m\u001b[0;34m\u001b[0m\u001b[0m\n\u001b[1;32m     92\u001b[0m \u001b[0;34m\u001b[0m\u001b[0m\n",
      "\u001b[0;32mstanfit4anon_model_2aa6b2a50b3f8803f36466b0b562212e_3753865909711091044.pyx\u001b[0m in \u001b[0;36mstanfit4anon_model_2aa6b2a50b3f8803f36466b0b562212e_3753865909711091044._call_sampler_star\u001b[0;34m()\u001b[0m\n",
      "\u001b[0;32mstanfit4anon_model_2aa6b2a50b3f8803f36466b0b562212e_3753865909711091044.pyx\u001b[0m in \u001b[0;36mstanfit4anon_model_2aa6b2a50b3f8803f36466b0b562212e_3753865909711091044._call_sampler\u001b[0;34m()\u001b[0m\n",
      "\u001b[0;31mRuntimeError\u001b[0m: Initialization failed."
     ]
    }
   ],
   "source": [
    "fit = model.sampling(test_grad=True,data = dat, chains = chains, iter=iterations, warmup=warmup, \n",
    "                     init = [{'beta':beta}],control=control,algorithm = \"Fixed_param\")"
   ]
  },
  {
   "cell_type": "code",
   "execution_count": null,
   "metadata": {},
   "outputs": [],
   "source": [
    "# print(fit)"
   ]
  },
  {
   "cell_type": "code",
   "execution_count": null,
   "metadata": {},
   "outputs": [],
   "source": [
    "# import arviz as az\n",
    "# az.plot_pair(fit,group='posterior',var_names=[\"beta\",\"J\"])"
   ]
  },
  {
   "cell_type": "code",
   "execution_count": null,
   "metadata": {},
   "outputs": [],
   "source": []
  }
 ],
 "metadata": {
  "kernelspec": {
   "display_name": "Python 3.7.4 64-bit",
   "language": "python",
   "name": "python37464bit88472551656c4de0b45b4bb9cfa50a19"
  },
  "language_info": {
   "codemirror_mode": {
    "name": "ipython",
    "version": 3
   },
   "file_extension": ".py",
   "mimetype": "text/x-python",
   "name": "python",
   "nbconvert_exporter": "python",
   "pygments_lexer": "ipython3",
   "version": "3.7.4"
  }
 },
 "nbformat": 4,
 "nbformat_minor": 2
}
