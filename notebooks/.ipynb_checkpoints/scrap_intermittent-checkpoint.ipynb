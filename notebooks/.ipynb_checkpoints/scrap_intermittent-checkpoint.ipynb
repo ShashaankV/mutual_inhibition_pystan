{
 "cells": [
  {
   "cell_type": "code",
   "execution_count": 1,
   "metadata": {},
   "outputs": [],
   "source": [
    "from numpy import *\n",
    "from matplotlib.pyplot import *\n"
   ]
  },
  {
   "cell_type": "code",
   "execution_count": 2,
   "metadata": {},
   "outputs": [
    {
     "name": "stdout",
     "output_type": "stream",
     "text": [
      "Using matplotlib backend: MacOSX\n"
     ]
    }
   ],
   "source": [
    "%matplotlib"
   ]
  },
  {
   "cell_type": "code",
   "execution_count": 3,
   "metadata": {},
   "outputs": [],
   "source": [
    "def g(x):\n",
    "    return ((x>0)*x)**0.5\n",
    "\n",
    "def calcu():\n",
    "    u = zeros((2,iterations))\n",
    "    a = zeros((2,iterations))\n",
    "    u[0,0] = 1\n",
    "    u[1,0] = 0.1\n",
    "    \n",
    "    a[:,0] = 1e-3*random.uniform(0,1,2)\n",
    "    \n",
    "    for i in range(1,iterations):\n",
    "        \n",
    "        s = (i%T<Tp)\n",
    "        \n",
    "        x = s*J*1**0.1 + c0 - beta*u[1,i-1] - gamma*a[0,i-1]\n",
    "        u[0,i] = u[0,i-1] + dt*(-u[0,i-1] + g(x))\n",
    "        a[0,i] = a[0,i-1] + dt/tau_a*(-a[0,i-1] + u[0,i])\n",
    "        \n",
    "        x = s*J*1**0.1 + c0 - beta*u[0,i-1] - gamma*a[1,i-1]\n",
    "        u[1,i] = u[1,i-1] + dt*(-u[1,i-1] + g(x))\n",
    "        a[1,i] = a[1,i-1] + dt/tau_a*(-a[1,i-1] + u[1,i])\n",
    "        \n",
    "    t = arange(iterations)*dt\n",
    "    return u,a,t\n",
    "\n",
    "def calcuinf_newton(S):\n",
    "    u=1e-8\n",
    "    a=1e-1#newton learning rate\n",
    "    for i in range(100):\n",
    "        x=(S - gamma*u)\n",
    "        if x>0:\n",
    "            f=u-((x>0)*(x))**0.5\n",
    "            fprime=1-0.5*((x>0)*x)**-0.5*-gamma\n",
    "            u+=-a*f/fprime\n",
    "    return u\n",
    "\n",
    "        "
   ]
  },
  {
   "cell_type": "code",
   "execution_count": 85,
   "metadata": {},
   "outputs": [
    {
     "data": {
      "text/plain": [
       "[<matplotlib.lines.Line2D at 0x12b008d10>,\n",
       " <matplotlib.lines.Line2D at 0x12b008f90>]"
      ]
     },
     "execution_count": 85,
     "metadata": {},
     "output_type": "execute_result"
    }
   ],
   "source": [
    "dt = 1/10.0\n",
    "iterations = int(10*1000/dt)\n",
    "\n",
    "tau_a = 1000\n",
    "T = 500/dt\n",
    "Tp = 100/dt\n",
    "\n",
    "beta = 2\n",
    "gamma = 1e-2\n",
    "c0 = 1e-4\n",
    "J = 1\n",
    "\n",
    "u,a,t = calcu()\n",
    "plot(u.T)\n",
    "# plot(a.T)\n",
    "\n",
    "print('a off: '+str(gamma*calcuinf_newton(J)))\n",
    "print('u off: '+str(calcuinf_newton(c0)))"
   ]
  },
  {
   "cell_type": "code",
   "execution_count": 82,
   "metadata": {},
   "outputs": [],
   "source": []
  },
  {
   "cell_type": "code",
   "execution_count": 84,
   "metadata": {},
   "outputs": [
    {
     "name": "stdout",
     "output_type": "stream",
     "text": [
      "a off: 0.009949860713651884\n",
      "u off: 0.006180194570482518\n"
     ]
    }
   ],
   "source": []
  },
  {
   "cell_type": "code",
   "execution_count": null,
   "metadata": {},
   "outputs": [],
   "source": []
  }
 ],
 "metadata": {
  "kernelspec": {
   "display_name": "Python 3.7.4 64-bit",
   "language": "python",
   "name": "python37464bit88472551656c4de0b45b4bb9cfa50a19"
  },
  "language_info": {
   "codemirror_mode": {
    "name": "ipython",
    "version": 3
   },
   "file_extension": ".py",
   "mimetype": "text/x-python",
   "name": "python",
   "nbconvert_exporter": "python",
   "pygments_lexer": "ipython3",
   "version": "3.7.4"
  }
 },
 "nbformat": 4,
 "nbformat_minor": 2
}
