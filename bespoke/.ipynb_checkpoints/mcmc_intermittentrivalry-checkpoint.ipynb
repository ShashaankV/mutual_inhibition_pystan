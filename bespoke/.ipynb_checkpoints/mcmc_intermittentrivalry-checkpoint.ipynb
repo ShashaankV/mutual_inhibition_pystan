{
 "cells": [
  {
   "cell_type": "code",
   "execution_count": 4,
   "metadata": {},
   "outputs": [],
   "source": [
    "from numpy import *\n",
    "from matplotlib.pyplot import *\n",
    "import time"
   ]
  },
  {
   "cell_type": "code",
   "execution_count": 5,
   "metadata": {},
   "outputs": [
    {
     "name": "stdout",
     "output_type": "stream",
     "text": [
      "Using matplotlib backend: MacOSX\n"
     ]
    }
   ],
   "source": [
    "%matplotlib"
   ]
  },
  {
   "cell_type": "markdown",
   "metadata": {},
   "source": [
    "## ODE model"
   ]
  },
  {
   "cell_type": "code",
   "execution_count": 15,
   "metadata": {},
   "outputs": [
    {
     "data": {
      "text/plain": [
       "[<matplotlib.lines.Line2D at 0x12a78f8d0>]"
      ]
     },
     "execution_count": 15,
     "metadata": {},
     "output_type": "execute_result"
    }
   ],
   "source": [
    "def g(x):\n",
    "    return ((x>0)*x)**0.5\n",
    "\n",
    "def OUN(mu=0,Nu=2,sigma=1,tau=100):\n",
    "    Z = zeros((Nu,iterations))\n",
    "    for i in range(1,iterations):\n",
    "        Z[:,i]=Z[:,i-1]+(dt/tau)*(mu-Z[:,i-1])+(dt**.5/tau)*sigma*random.normal(0,1,(Nu))\n",
    "    return Z\n",
    "\n",
    "\n",
    "tau_a = 1000\n",
    "tau_u = 10\n",
    "tau_z = 1\n",
    "dt = 1/10.\n",
    "ttot = 10*1000 #msec, can run parallel chunks of time \n",
    "T = 500/dt #msec\n",
    "Ton = 50/dt\n",
    "\n",
    "iterations = int(ttot/dt)\n",
    "\n",
    "gamma = 1e-2\n",
    "beta = 5\n",
    "Soff = 0\n",
    "J = 1e-1\n",
    "\n",
    "u_ = random.uniform(0,1e-3,[2,iterations])\n",
    "a_ = random.uniform(0,1e-3,[2,iterations])\n",
    "z_ = OUN(sigma=1, tau=tau_z)\n",
    "s_ = zeros(iterations)\n",
    " \n",
    "# t0 = time.time()\n",
    "k = 0\n",
    "s = 0\n",
    "s_ = [] #state of system at time index k\n",
    "for k in range(1,iterations):\n",
    "    for i in range(2):\n",
    "        tp = k%T\n",
    "        j = 1-i\n",
    "        x = [-u_[i,k-1] + (tp<Ton)*J - gamma*a_[i,k-1] - Soff\n",
    "            -(beta*u_[j,k-1] + u_[j,k-1]*z_[j,k-1])] #multiplicative noise from mutual inhibition \n",
    "             \n",
    "        u_[i,k] = u_[i,k-1] +dt/tau_u*(-u_[i,k-1] + g(x[0]))\n",
    "        a_[i,k] = a_[i,k-1] +dt/tau_a*(-a_[i,k-1] + u_[i,k])\n",
    "        if tp==T-1:\n",
    "            s_.append(sign(s))\n",
    "            s = 0\n",
    "        s += u_[0,k]-u_[1,k] #state of system at time index k\n",
    "        \n",
    "# print(time.time()-t0)\n",
    "\n",
    "# calc states \n",
    "\n",
    "\n",
    "    \n",
    "    \n"
   ]
  },
  {
   "cell_type": "code",
   "execution_count": 17,
   "metadata": {},
   "outputs": [
    {
     "data": {
      "text/plain": [
       "[<matplotlib.lines.Line2D at 0x12a7f2a90>,\n",
       " <matplotlib.lines.Line2D at 0x12a7f2c90>]"
      ]
     },
     "execution_count": 17,
     "metadata": {},
     "output_type": "execute_result"
    }
   ],
   "source": [
    "figure()\n",
    "plot(u_.T)\n",
    "\n",
    "figure()\n",
    "plot(s_)"
   ]
  },
  {
   "cell_type": "code",
   "execution_count": null,
   "metadata": {},
   "outputs": [],
   "source": []
  }
 ],
 "metadata": {
  "kernelspec": {
   "display_name": "Python 3.7.4 64-bit",
   "language": "python",
   "name": "python37464bit88472551656c4de0b45b4bb9cfa50a19"
  },
  "language_info": {
   "codemirror_mode": {
    "name": "ipython",
    "version": 3
   },
   "file_extension": ".py",
   "mimetype": "text/x-python",
   "name": "python",
   "nbconvert_exporter": "python",
   "pygments_lexer": "ipython3",
   "version": "3.7.4"
  }
 },
 "nbformat": 4,
 "nbformat_minor": 2
}
